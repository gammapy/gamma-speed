{
 "metadata": {
  "name": "minimizer_tutorial"
 },
 "nbformat": 3,
 "nbformat_minor": 0,
 "worksheets": [
  {
   "cells": [
    {
     "cell_type": "heading",
     "level": 1,
     "metadata": {},
     "source": [
      "Minimizer tutorial"
     ]
    },
    {
     "cell_type": "markdown",
     "metadata": {},
     "source": [
      "Here we write our own minimizer algorithms and run them on simple examples.\n",
      "\n",
      "The goal is to eventually fully understand the behaviour of the `levmar` and `MIGRAD` algorithms."
     ]
    },
    {
     "cell_type": "code",
     "collapsed": false,
     "input": [
      "# We will use the descrive function from iminuit to inspect the\n",
      "# cost function and obtain a list of parameter names.\n",
      "from iminuit import describe"
     ],
     "language": "python",
     "metadata": {},
     "outputs": [],
     "prompt_number": 5
    },
    {
     "cell_type": "code",
     "collapsed": false,
     "input": [
      "# Define a test function\n",
      "def f(x):\n",
      "    return 3 * (x - 42) ** 2"
     ],
     "language": "python",
     "metadata": {},
     "outputs": [],
     "prompt_number": 92
    },
    {
     "cell_type": "code",
     "collapsed": false,
     "input": [
      "# Define a 2D test function\n",
      "def f_2d(x, y):\n",
      "    return 3 * (x - 42) ** 2 + (y - 10) ** 2"
     ],
     "language": "python",
     "metadata": {},
     "outputs": [],
     "prompt_number": 106
    },
    {
     "cell_type": "code",
     "collapsed": false,
     "input": [
      "def compute_gradient(f, pars, eps):\n",
      "    \"\"\"Compute the gradient of a given function.\n",
      "\n",
      "    Implements a forward difference method.\n",
      "\n",
      "    f : function\n",
      "    pars : dict with parameter values\n",
      "    eps : dict with parameter absolute step sizes\n",
      "\n",
      "    TODO: replace with a common algorithm\n",
      "    \"\"\"\n",
      "    f0 = f(**pars)\n",
      "    gradient = dict()\n",
      "    for key in pars.keys():\n",
      "        dx = eps[key]\n",
      "        p1 = pars.copy()\n",
      "        p1[key] = pars[key] + eps[key]\n",
      "        df = f(**p1) - f0\n",
      "        gradient[key] = df / dx\n",
      "\n",
      "    return gradient"
     ],
     "language": "python",
     "metadata": {},
     "outputs": [],
     "prompt_number": 93
    },
    {
     "cell_type": "code",
     "collapsed": false,
     "input": [
      "# test compute_gradient function\n",
      "print(compute_gradient(f, dict(x=0), dict(x=1e-3)))\n",
      "print(compute_gradient(f, dict(x=2), dict(x=1e-3)))"
     ],
     "language": "python",
     "metadata": {},
     "outputs": [
      {
       "output_type": "stream",
       "stream": "stdout",
       "text": [
        "{'x': -251.99699999939185}\n",
        "{'x': -239.9969999996756}\n"
       ]
      }
     ],
     "prompt_number": 94
    },
    {
     "cell_type": "code",
     "collapsed": false,
     "input": [
      "class Minimizer(object):\n",
      "    \"\"\"Abstract base class for minimizers\"\"\"\n",
      "    # TODO: define abstract methods\n",
      "\n",
      "    def __init__(self, f, start_pars, max_ncalls=100, max_dfval=1e-3):\n",
      "        \"\"\"cost is the cost function to be minimized\"\"\"\n",
      "        self._f = f\n",
      "        self.par_names = describe(f)\n",
      "        self.pars = start_pars\n",
      "        self.eps = dict()\n",
      "        self.gradient = dict()\n",
      "        self.dpars = dict()\n",
      "        for key in self.pars.keys():\n",
      "            self.eps[key] = 1e-10\n",
      "            self.gradient[key] = None\n",
      "            self.dpars[key] = None\n",
      "        self.fval = f(**start_pars)\n",
      "        self.dfval = None\n",
      "        self.ncalls = 0\n",
      "        self.max_ncalls = max_ncalls\n",
      "        self.max_dfval = max_dfval\n",
      "        \n",
      "    def run(self):\n",
      "        \"\"\"Run minimizer loop\"\"\"\n",
      "        while True:\n",
      "            self.step()\n",
      "            if self.stop():\n",
      "                break\n",
      "\n",
      "    def stop(self):\n",
      "        \"\"\"Should we stop?\"\"\"\n",
      "        if ((self.ncalls >= self.max_ncalls) or \n",
      "            (abs(self.dfval) < self.max_dfval)):\n",
      "            return True\n",
      "        else:\n",
      "            return False\n",
      "        \n",
      "    def print_info(self):\n",
      "        print('par_names: {0}'.format(self.par_names))\n",
      "        print('pars:      {0}'.format(self.pars))\n",
      "        print('dpars:     {0}'.format(self.dpars))\n",
      "        print('eps:       {0}'.format(self.eps))\n",
      "        print('fval:      {0}'.format(self.fval))\n",
      "        print('dfval:     {0}'.format(self.dfval))\n",
      "        print('gradient:  {0}'.format(self.gradient))\n",
      "        print('ncalls:    {0}'.format(self.ncalls))"
     ],
     "language": "python",
     "metadata": {},
     "outputs": [],
     "prompt_number": 98
    },
    {
     "cell_type": "code",
     "collapsed": false,
     "input": [
      "# TODO: record number of function evaluations for gradient computation in Minimizer\n",
      "\n",
      "class GradientDescent(Minimizer):\n",
      "    \"\"\"Gradient descent minimizer\"\"\"\n",
      "\n",
      "    def __init__(self, f, start_pars, max_ncalls=100, max_dfval=1e-3, mu=0.1):\n",
      "        \"\"\"\n",
      "        mu : step scale parameter\n",
      "        \"\"\"\n",
      "        super(GradientDescent, self).__init__(f, start_pars, max_ncalls, max_dfval)\n",
      "        self.mu = mu\n",
      "    \n",
      "    def step(self):\n",
      "        \"\"\"Walk one step\n",
      "        \"\"\"\n",
      "        # Remember last fval\n",
      "        fval = self.fval\n",
      "        # Compute gradient\n",
      "        self.gradient = compute_gradient(self._f, self.pars, self.eps)\n",
      "        # Step along gradient\n",
      "        for key in self.pars:\n",
      "            self.dpars[key] = - self.mu * self.gradient[key]\n",
      "            self.pars[key] += self.dpars[key]\n",
      "        # Update state\n",
      "        self.fval = self._f(**self.pars)\n",
      "        self.dfval = self.fval - fval\n",
      "        self.ncalls += 1"
     ],
     "language": "python",
     "metadata": {},
     "outputs": [],
     "prompt_number": 100
    },
    {
     "cell_type": "code",
     "collapsed": false,
     "input": [
      "# Execute a 1D GradientDescent example\n",
      "start_pars = dict(x=1)\n",
      "minimizer = GradientDescent(f, start_pars)\n",
      "#minimizer.print_info()\n",
      "#for _ in range(2):\n",
      "#    minimizer.step()\n",
      "#    print('****')\n",
      "#    minimizer.print_info()\n",
      "minimizer.run()\n",
      "minimizer.print_info()"
     ],
     "language": "python",
     "metadata": {},
     "outputs": [
      {
       "output_type": "stream",
       "stream": "stdout",
       "text": [
        "par_names: ['x']\n",
        "pars:      {'x': 41.99570194925593}\n",
        "dpars:     {'x': 0.0064473636932765865}\n",
        "eps:       {'x': 1e-10}\n",
        "fval:      5.54197205958e-05\n",
        "dfval:     -0.000290972073695\n",
        "gradient:  {'x': -0.06447363693276587}\n",
        "ncalls:    10\n"
       ]
      }
     ],
     "prompt_number": 108
    },
    {
     "cell_type": "code",
     "collapsed": false,
     "input": [
      "# Execute a 2D GradientDescent example\n",
      "start_pars = dict(x=0, y =0)\n",
      "minimizer = GradientDescent(f_2d, start_pars)\n",
      "minimizer.run()\n",
      "minimizer.print_info()"
     ],
     "language": "python",
     "metadata": {},
     "outputs": [
      {
       "output_type": "stream",
       "stream": "stdout",
       "text": [
        "par_names: ['x', 'y']\n",
        "pars:      {'y': 9.962221111849827, 'x': 41.99999999524029}\n",
        "dpars:     {'y': 0.009444722781637438, 'x': 6.938893903907228e-09}\n",
        "eps:       {'y': 1e-10, 'x': 1e-10}\n",
        "fval:      0.00142724438986\n",
        "dfval:     -0.000802825039576\n",
        "gradient:  {'y': -0.09444722781637438, 'x': -6.938893903907228e-08}\n",
        "ncalls:    25\n"
       ]
      }
     ],
     "prompt_number": 109
    },
    {
     "cell_type": "code",
     "collapsed": false,
     "input": [],
     "language": "python",
     "metadata": {},
     "outputs": []
    }
   ],
   "metadata": {}
  }
 ]
}