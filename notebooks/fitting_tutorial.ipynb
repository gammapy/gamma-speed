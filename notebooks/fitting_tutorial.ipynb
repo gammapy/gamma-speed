{
 "metadata": {
  "name": "fitting_tutorial"
 },
 "nbformat": 3,
 "nbformat_minor": 0,
 "worksheets": [
  {
   "cells": [
    {
     "cell_type": "heading",
     "level": 1,
     "metadata": {},
     "source": [
      "Fitting tutorial"
     ]
    },
    {
     "cell_type": "markdown",
     "metadata": {},
     "source": [
      "This is a simple example of a chi^2 and a Poisson likelihood fit."
     ]
    },
    {
     "cell_type": "code",
     "collapsed": false,
     "input": [
      "# These are the Python packages we'll use\n",
      "from StringIO import StringIO\n",
      "import numpy as np\n",
      "import pandas as pd\n",
      "from scipy import stats\n",
      "from iminuit import Minuit"
     ],
     "language": "python",
     "metadata": {},
     "outputs": [],
     "prompt_number": 53
    },
    {
     "cell_type": "code",
     "collapsed": false,
     "input": [
      "%pylab inline\n",
      "import matplotlib.pyplot as plt"
     ],
     "language": "python",
     "metadata": {},
     "outputs": [
      {
       "output_type": "stream",
       "stream": "stdout",
       "text": [
        "\n",
        "Welcome to pylab, a matplotlib-based Python environment [backend: module://IPython.kernel.zmq.pylab.backend_inline].\n",
        "For more information, type 'help(pylab)'.\n"
       ]
      }
     ],
     "prompt_number": 18
    },
    {
     "cell_type": "heading",
     "level": 2,
     "metadata": {},
     "source": [
      "Chi^2 spectral fit"
     ]
    },
    {
     "cell_type": "code",
     "collapsed": false,
     "input": [
      "# Example data for chi^2 fit:\n",
      "# Flux points (E, F, dF) for the Galactic center source with HESS\n",
      "# http://www.mpi-hd.mpg.de/hfm/HESS/pages/publications/auxiliary/AA425_L13.html\n",
      "data_str = \"\"\"\n",
      "   0.34    2.49e-11    1.14e-11\n",
      "   0.49    1.43e-11    3.60e-12\n",
      "   0.72    6.07e-12    1.60e-12\n",
      "   1.06    1.63e-12    6.12e-13\n",
      "   1.55    1.22e-12    3.33e-13\n",
      "   2.28    4.43e-13    1.63e-13\n",
      "   3.35    2.53e-13    8.54e-14\n",
      "\"\"\"\n",
      "data = np.loadtxt(StringIO(data_str))\n",
      "E = data[:, 0]\n",
      "F = data[:, 1]\n",
      "dF = data[:, 2]\n",
      "data = dict(E=E, F=F, dF=dF)"
     ],
     "language": "python",
     "metadata": {},
     "outputs": [],
     "prompt_number": 70
    },
    {
     "cell_type": "code",
     "collapsed": false,
     "input": [
      "# Plot the data for illustration\n",
      "plt.errorbar(E, F, dF, fmt='*')\n",
      "plt.loglog()\n",
      "plt.xlabel('Energy (TeV)')\n",
      "plt.ylabel('Differential Flux (cm^-1 s^-2 TeV^-1)')"
     ],
     "language": "python",
     "metadata": {},
     "outputs": [
      {
       "metadata": {},
       "output_type": "pyout",
       "prompt_number": 69,
       "text": [
        "<matplotlib.text.Text at 0x115e1e250>"
       ]
      },
      {
       "metadata": {},
       "output_type": "display_data",
       "png": "[encoded data removed]",
       "text": [
        "<matplotlib.figure.Figure at 0x115e17fd0>"
       ]
      }
     ],
     "prompt_number": 69
    },
    {
     "cell_type": "code",
     "collapsed": false,
     "input": [
      "# Define the model we want to fit\n",
      "def f(E, F0, gamma):\n",
      "    \"\"\"Power-law model\"\"\"\n",
      "    return F0 * E ** (-gamma)"
     ],
     "language": "python",
     "metadata": {},
     "outputs": [],
     "prompt_number": 74
    },
    {
     "cell_type": "code",
     "collapsed": false,
     "input": [
      "# Define fit statistic\n",
      "def chi2(F0, gamma):\n",
      "    x = data['E']\n",
      "    y_model = f(E, F0, gamma)\n",
      "    y_data = data['F']\n",
      "    y_err_data = data['dF']\n",
      "    chi = (y_data - y_model) / y_err_data\n",
      "    return (chi ** 2).sum()"
     ],
     "language": "python",
     "metadata": {},
     "outputs": [],
     "prompt_number": 77
    },
    {
     "cell_type": "code",
     "collapsed": false,
     "input": [
      "# Define a minimizer object\n",
      "minuit = Minuit(chi2, pedantic=False)"
     ],
     "language": "python",
     "metadata": {},
     "outputs": [],
     "prompt_number": 80
    },
    {
     "cell_type": "code",
     "collapsed": false,
     "input": [
      "# Run the minimization\n",
      "minuit.migrad();"
     ],
     "language": "python",
     "metadata": {},
     "outputs": [
      {
       "html": [
        "<hr>"
       ],
       "metadata": {},
       "output_type": "display_data"
      },
      {
       "html": [
        "\n",
        "        <table>\n",
        "            <tr>\n",
        "                <td title=\"Minimum value of function\">FCN = 2.55441190239</td>\n",
        "                <td title=\"Total number of call to FCN so far\">TOTAL NCALL = 206</td>\n",
        "                <td title=\"Number of call in last migrad\">NCALLS = 14</td>\n",
        "            </tr>\n",
        "            <tr>\n",
        "                <td title=\"Estimated distance to minimum\">EDM = 6.67935361077e-13</td>\n",
        "                <td title=\"Maximum EDM definition of convergence\">GOAL EDM = 1e-05</td>\n",
        "                <td title=\"Error def. Amount of increase in FCN to be defined as 1 standard deviation\">\n",
        "                UP = 1.0</td>\n",
        "            </tr>\n",
        "        </table>\n",
        "        \n",
        "        <table>\n",
        "            <tr>\n",
        "                <td align=\"center\" title=\"Validity of the migrad call\">Valid</td>\n",
        "                <td align=\"center\" title=\"Validity of parameters\">Valid Param</td>\n",
        "                <td align=\"center\" title=\"Is Covariance matrix accurate?\">Accurate Covar</td>\n",
        "                <td align=\"center\" title=\"Positive definiteness of covariance matrix\">PosDef</td>\n",
        "                <td align=\"center\" title=\"Was covariance matrix made posdef by adding diagonal element\">Made PosDef</td>\n",
        "            </tr>\n",
        "            <tr>\n",
        "                <td align=\"center\" style=\"background-color:#92CCA6\">True</td>\n",
        "                <td align=\"center\" style=\"background-color:#92CCA6\">True</td>\n",
        "                <td align=\"center\" style=\"background-color:#92CCA6\">True</td>\n",
        "                <td align=\"center\" style=\"background-color:#92CCA6\">True</td>\n",
        "                <td align=\"center\" style=\"background-color:#92CCA6\">False</td>\n",
        "            </tr>\n",
        "            <tr>\n",
        "                <td align=\"center\" title=\"Was last hesse call fail?\">Hesse Fail</td>\n",
        "                <td align=\"center\" title=\"Validity of covariance\">HasCov</td>\n",
        "                <td align=\"center\" title=\"Is EDM above goal EDM?\">Above EDM</td>\n",
        "                <td align=\"center\"></td>\n",
        "                <td align=\"center\" title=\"Did last migrad call reach max call limit?\">Reach calllim</td>\n",
        "            </tr>\n",
        "            <tr>\n",
        "                <td align=\"center\" style=\"background-color:#92CCA6\">False</td>\n",
        "                <td align=\"center\" style=\"background-color:#92CCA6\">True</td>\n",
        "                <td align=\"center\" style=\"background-color:#92CCA6\">False</td>\n",
        "                <td align=\"center\"></td>\n",
        "                <td align=\"center\" style=\"background-color:#92CCA6\">False</td>\n",
        "            </tr>\n",
        "        </table>\n",
        "        "
       ],
       "metadata": {},
       "output_type": "display_data"
      },
      {
       "html": [
        "\n",
        "        <table>\n",
        "            <tr>\n",
        "                <td><a href=\"#\" onclick=\"$('#hcSiqsKnrH').toggle()\">+</a></td>\n",
        "                <td title=\"Variable name\">Name</td>\n",
        "                <td title=\"Value of parameter\">Value</td>\n",
        "                <td title=\"Parabolic error\">Parab Error</td>\n",
        "                <td title=\"Minos lower error\">Minos Error-</td>\n",
        "                <td title=\"Minos upper error\">Minos Error+</td>\n",
        "                <td title=\"Lower limit of the parameter\">Limit-</td>\n",
        "                <td title=\"Upper limit of the parameter\">Limit+</td>\n",
        "                <td title=\"Is the parameter fixed in the fit\">FIXED</td>\n",
        "            </tr>\n",
        "        \n",
        "            <tr>\n",
        "                <td>1</td>\n",
        "                <td>F0</td>\n",
        "                <td>2.716850e-12</td>\n",
        "                <td>3.271880e-13</td>\n",
        "                <td>0.000000e+00</td>\n",
        "                <td>0.000000e+00</td>\n",
        "                <td></td>\n",
        "                <td></td>\n",
        "                <td></td>\n",
        "            </tr>\n",
        "            \n",
        "            <tr>\n",
        "                <td>2</td>\n",
        "                <td>gamma</td>\n",
        "                <td>2.118494e+00</td>\n",
        "                <td>1.896585e-01</td>\n",
        "                <td>0.000000e+00</td>\n",
        "                <td>0.000000e+00</td>\n",
        "                <td></td>\n",
        "                <td></td>\n",
        "                <td></td>\n",
        "            </tr>\n",
        "            \n",
        "            </table>\n",
        "        \n",
        "            <pre id=\"hcSiqsKnrH\" style=\"display:none;\">\n",
        "            <textarea rows=\"10\" cols=\"50\" onclick=\"this.select()\" readonly>\\begin{tabular}{|c|r|r|r|r|r|r|r|c|}\n",
        "\\hline\n",
        " & Name & Value & Para Error & Error+ & Error- & Limit+ & Limit- & FIXED\\\\\n",
        "\\hline\n",
        "1 & F0 & 2.717e-12 & 3.272e-13 &  &  &  &  & \\\\\n",
        "\\hline\n",
        "2 & $\\gamma$ & 2.118e+00 & 1.897e-01 &  &  &  &  & \\\\\n",
        "\\hline\n",
        "\\end{tabular}</textarea>\n",
        "            </pre>\n",
        "            "
       ],
       "metadata": {},
       "output_type": "display_data"
      },
      {
       "html": [
        "<hr>"
       ],
       "metadata": {},
       "output_type": "display_data"
      }
     ],
     "prompt_number": 82
    },
    {
     "cell_type": "code",
     "collapsed": false,
     "input": [
      "# TODO: Check values from paper, i.e. put them here."
     ],
     "language": "python",
     "metadata": {},
     "outputs": []
    },
    {
     "cell_type": "code",
     "collapsed": false,
     "input": [
      "# TODO: Overplot data and model fit"
     ],
     "language": "python",
     "metadata": {},
     "outputs": []
    },
    {
     "cell_type": "heading",
     "level": 2,
     "metadata": {},
     "source": [
      "Poisson likelihood 1D Gauss fit"
     ]
    },
    {
     "cell_type": "code",
     "collapsed": false,
     "input": [
      "# Define the model\n",
      "def gauss(x, norm, mu, sigma):\n",
      "    factor = norm / (np.sqrt(2 * np.pi) * sigma)\n",
      "    exponent = - (x - mu) ** 2 / (2 * sigma ** 2)\n",
      "    return factor * np.exp(exponent)"
     ],
     "language": "python",
     "metadata": {},
     "outputs": [],
     "prompt_number": 104
    },
    {
     "cell_type": "code",
     "collapsed": false,
     "input": [
      "# Plot model to check we did OK\n",
      "x = np.arange(0, 10, 0.1)\n",
      "true_pars = dict(norm=20, mu=3, sigma=2)\n",
      "y = gauss(x, **true_pars)\n",
      "plt.plot(x, y);"
     ],
     "language": "python",
     "metadata": {},
     "outputs": [
      {
       "metadata": {},
       "output_type": "display_data",
       "png": "[encoded data removed]",
       "text": [
        "<matplotlib.figure.Figure at 0x1162cc350>"
       ]
      }
     ],
     "prompt_number": 105
    },
    {
     "cell_type": "code",
     "collapsed": false,
     "input": [
      "# simulate count data\n",
      "n_counts = 1000\n",
      "y_exp = n_counts * y / y.sum()\n",
      "print y_exp.sum()"
     ],
     "language": "python",
     "metadata": {},
     "outputs": [
      {
       "output_type": "stream",
       "stream": "stdout",
       "text": [
        "1000.0\n"
       ]
      }
     ],
     "prompt_number": 106
    },
    {
     "cell_type": "code",
     "collapsed": false,
     "input": [
      "# Seed random number generator to make results reproducible\n",
      "np.random.seed(0)\n",
      "y_data = np.random.poisson(y_exp)\n",
      "data = dict(counts=y_data)"
     ],
     "language": "python",
     "metadata": {},
     "outputs": [],
     "prompt_number": 109
    },
    {
     "cell_type": "code",
     "collapsed": false,
     "input": [
      "plt.plot(x, y_exp)\n",
      "plt.plot(x, y_data, 'o')"
     ],
     "language": "python",
     "metadata": {},
     "outputs": [
      {
       "metadata": {},
       "output_type": "pyout",
       "prompt_number": 108,
       "text": [
        "[<matplotlib.lines.Line2D at 0x116222950>]"
       ]
      },
      {
       "metadata": {},
       "output_type": "display_data",
       "png": "[encoded data removed]",
       "text": [
        "<matplotlib.figure.Figure at 0x115e0ec90>"
       ]
      }
     ],
     "prompt_number": 108
    },
    {
     "cell_type": "code",
     "collapsed": false,
     "input": [
      "# Define fit statistic\n",
      "def cash(norm, mu, sigma):\n",
      "    # print norm, mu, sigma\n",
      "    M = gauss(x, norm, mu, sigma)\n",
      "    D = data['counts']\n",
      "    stat = 2 * (M - D * np.log(M))\n",
      "    stat = np.where(M == 0, 0, stat)\n",
      "    return stat.sum()"
     ],
     "language": "python",
     "metadata": {},
     "outputs": [],
     "prompt_number": 130
    },
    {
     "cell_type": "code",
     "collapsed": false,
     "input": [
      "# Define a minimizer object\n",
      "minuit = Minuit(cash, pedantic=False, norm=20, mu=3, sigma=2)"
     ],
     "language": "python",
     "metadata": {},
     "outputs": [],
     "prompt_number": 131
    },
    {
     "cell_type": "code",
     "collapsed": false,
     "input": [
      "# Run the minimization\n",
      "minuit.migrad();"
     ],
     "language": "python",
     "metadata": {},
     "outputs": [
      {
       "html": [
        "<hr>"
       ],
       "metadata": {},
       "output_type": "display_data"
      },
      {
       "html": [
        "\n",
        "        <table>\n",
        "            <tr>\n",
        "                <td title=\"Minimum value of function\">FCN = -3534.49536082</td>\n",
        "                <td title=\"Total number of call to FCN so far\">TOTAL NCALL = 113</td>\n",
        "                <td title=\"Number of call in last migrad\">NCALLS = 113</td>\n",
        "            </tr>\n",
        "            <tr>\n",
        "                <td title=\"Estimated distance to minimum\">EDM = 2.30725205107e-08</td>\n",
        "                <td title=\"Maximum EDM definition of convergence\">GOAL EDM = 1e-05</td>\n",
        "                <td title=\"Error def. Amount of increase in FCN to be defined as 1 standard deviation\">\n",
        "                UP = 1.0</td>\n",
        "            </tr>\n",
        "        </table>\n",
        "        \n",
        "        <table>\n",
        "            <tr>\n",
        "                <td align=\"center\" title=\"Validity of the migrad call\">Valid</td>\n",
        "                <td align=\"center\" title=\"Validity of parameters\">Valid Param</td>\n",
        "                <td align=\"center\" title=\"Is Covariance matrix accurate?\">Accurate Covar</td>\n",
        "                <td align=\"center\" title=\"Positive definiteness of covariance matrix\">PosDef</td>\n",
        "                <td align=\"center\" title=\"Was covariance matrix made posdef by adding diagonal element\">Made PosDef</td>\n",
        "            </tr>\n",
        "            <tr>\n",
        "                <td align=\"center\" style=\"background-color:#92CCA6\">True</td>\n",
        "                <td align=\"center\" style=\"background-color:#92CCA6\">True</td>\n",
        "                <td align=\"center\" style=\"background-color:#92CCA6\">True</td>\n",
        "                <td align=\"center\" style=\"background-color:#92CCA6\">True</td>\n",
        "                <td align=\"center\" style=\"background-color:#92CCA6\">False</td>\n",
        "            </tr>\n",
        "            <tr>\n",
        "                <td align=\"center\" title=\"Was last hesse call fail?\">Hesse Fail</td>\n",
        "                <td align=\"center\" title=\"Validity of covariance\">HasCov</td>\n",
        "                <td align=\"center\" title=\"Is EDM above goal EDM?\">Above EDM</td>\n",
        "                <td align=\"center\"></td>\n",
        "                <td align=\"center\" title=\"Did last migrad call reach max call limit?\">Reach calllim</td>\n",
        "            </tr>\n",
        "            <tr>\n",
        "                <td align=\"center\" style=\"background-color:#92CCA6\">False</td>\n",
        "                <td align=\"center\" style=\"background-color:#92CCA6\">True</td>\n",
        "                <td align=\"center\" style=\"background-color:#92CCA6\">False</td>\n",
        "                <td align=\"center\"></td>\n",
        "                <td align=\"center\" style=\"background-color:#92CCA6\">False</td>\n",
        "            </tr>\n",
        "        </table>\n",
        "        "
       ],
       "metadata": {},
       "output_type": "display_data"
      },
      {
       "html": [
        "\n",
        "        <table>\n",
        "            <tr>\n",
        "                <td><a href=\"#\" onclick=\"$('#CZqTGCexlk').toggle()\">+</a></td>\n",
        "                <td title=\"Variable name\">Name</td>\n",
        "                <td title=\"Value of parameter\">Value</td>\n",
        "                <td title=\"Parabolic error\">Parab Error</td>\n",
        "                <td title=\"Minos lower error\">Minos Error-</td>\n",
        "                <td title=\"Minos upper error\">Minos Error+</td>\n",
        "                <td title=\"Lower limit of the parameter\">Limit-</td>\n",
        "                <td title=\"Upper limit of the parameter\">Limit+</td>\n",
        "                <td title=\"Is the parameter fixed in the fit\">FIXED</td>\n",
        "            </tr>\n",
        "        \n",
        "            <tr>\n",
        "                <td>1</td>\n",
        "                <td>norm</td>\n",
        "                <td>1.083063e+02</td>\n",
        "                <td>3.502529e+00</td>\n",
        "                <td>0.000000e+00</td>\n",
        "                <td>0.000000e+00</td>\n",
        "                <td></td>\n",
        "                <td></td>\n",
        "                <td></td>\n",
        "            </tr>\n",
        "            \n",
        "            <tr>\n",
        "                <td>2</td>\n",
        "                <td>mu</td>\n",
        "                <td>3.011400e+00</td>\n",
        "                <td>7.254245e-02</td>\n",
        "                <td>0.000000e+00</td>\n",
        "                <td>0.000000e+00</td>\n",
        "                <td></td>\n",
        "                <td></td>\n",
        "                <td></td>\n",
        "            </tr>\n",
        "            \n",
        "            <tr>\n",
        "                <td>3</td>\n",
        "                <td>sigma</td>\n",
        "                <td>1.889459e+00</td>\n",
        "                <td>5.756461e-02</td>\n",
        "                <td>0.000000e+00</td>\n",
        "                <td>0.000000e+00</td>\n",
        "                <td></td>\n",
        "                <td></td>\n",
        "                <td></td>\n",
        "            </tr>\n",
        "            \n",
        "            </table>\n",
        "        \n",
        "            <pre id=\"CZqTGCexlk\" style=\"display:none;\">\n",
        "            <textarea rows=\"12\" cols=\"50\" onclick=\"this.select()\" readonly>\\begin{tabular}{|c|r|r|r|r|r|r|r|c|}\n",
        "\\hline\n",
        " & Name & Value & Para Error & Error+ & Error- & Limit+ & Limit- & FIXED\\\\\n",
        "\\hline\n",
        "1 & norm & 1.083e+02 & 3.503e+00 &  &  &  &  & \\\\\n",
        "\\hline\n",
        "2 & $\\mu$ & 3.011e+00 & 7.254e-02 &  &  &  &  & \\\\\n",
        "\\hline\n",
        "3 & $\\sigma$ & 1.889e+00 & 5.756e-02 &  &  &  &  & \\\\\n",
        "\\hline\n",
        "\\end{tabular}</textarea>\n",
        "            </pre>\n",
        "            "
       ],
       "metadata": {},
       "output_type": "display_data"
      },
      {
       "html": [
        "<hr>"
       ],
       "metadata": {},
       "output_type": "display_data"
      }
     ],
     "prompt_number": 132
    },
    {
     "cell_type": "code",
     "collapsed": false,
     "input": [
      "# Results look OK ... norm is not the peak value the way we defined the gauss model"
     ],
     "language": "python",
     "metadata": {},
     "outputs": []
    }
   ],
   "metadata": {}
  }
 ]
}